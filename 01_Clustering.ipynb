{
  "nbformat": 4,
  "nbformat_minor": 0,
  "metadata": {
    "colab": {
      "name": "01_Clustering.ipynb",
      "provenance": [],
      "collapsed_sections": [],
      "include_colab_link": true
    },
    "kernelspec": {
      "name": "python3",
      "display_name": "Python 3"
    }
  },
  "cells": [
    {
      "cell_type": "markdown",
      "metadata": {
        "id": "view-in-github",
        "colab_type": "text"
      },
      "source": [
        "<a href=\"https://colab.research.google.com/github/nidhin-koshy/TRISCON_TPML/blob/master/01_Clustering.ipynb\" target=\"_parent\"><img src=\"https://colab.research.google.com/assets/colab-badge.svg\" alt=\"Open In Colab\"/></a>"
      ]
    },
    {
      "cell_type": "markdown",
      "metadata": {
        "id": "YQmB0dnYYDs3",
        "colab_type": "text"
      },
      "source": [
        "# Clustering\n",
        "\n",
        " Clustering is a non-supervised learning task, where the aim is to group the samples in to distinct clusters. \n",
        " \n",
        " In this module we will look at two popular clustering techniques - 1) K-means algorithm, and 2) spectral clustering  methods."
      ]
    },
    {
      "cell_type": "markdown",
      "metadata": {
        "id": "dhKIRriC5njp",
        "colab_type": "text"
      },
      "source": [
        "## K-means algorithm\n",
        "\n",
        "K-means algorithm partitions the input samples in to K clusters. It is a simple clustering technique which works well for convex and isotropic clusters. K-means does not work well for irregular shaped clusters. It is an iterative algorithm that tries to find the optimum cluster centroids such that the intra-cluster distances from the centroids (also known as inertia ) are minimized. With each iteration the inertia is reduced and hence the algorithm is bound to converge, at least to a local minima. The problem with convergence to a local minima can be addressed by running the algorithm multiple times with different initializations for the centroids and choosing the best run. We now provide a high-level description of the K-means algorithm.\n",
        "\n",
        "     K-means(input_samples,num_clusters)\n",
        "       centroids = initialize_centroids(num_clusters)\n",
        "       while(centriods not converged)\n",
        "         labels = assign_new_labels(input_samples, centroids)\n",
        "         centroids = compute_new_centroids(input_samples,labels)\n",
        "       end while"
      ]
    },
    {
      "cell_type": "code",
      "metadata": {
        "id": "fHO7qntVX-JO",
        "colab_type": "code",
        "colab": {}
      },
      "source": [
        "#import required modules\n",
        "import numpy as np\n",
        "import pandas as pd\n",
        "import matplotlib.pyplot as plt\n",
        "from sklearn.preprocessing import normalize\n",
        "import numpy.matlib"
      ],
      "execution_count": 0,
      "outputs": []
    },
    {
      "cell_type": "markdown",
      "metadata": {
        "id": "Eb8_xBdrJ_vu",
        "colab_type": "text"
      },
      "source": [
        "### Generate synthetic cluster data points"
      ]
    },
    {
      "cell_type": "code",
      "metadata": {
        "id": "ZjKlVLas-xe4",
        "colab_type": "code",
        "outputId": "61a5a51b-b89e-4d13-caca-d18407fd29fa",
        "colab": {
          "base_uri": "https://localhost:8080/",
          "height": 396
        }
      },
      "source": [
        "#generate data points for clustering\n",
        "#generate isotropic Gaussian distributed clusters\n",
        "num_classes = 3\n",
        "num_x1_samples = 500 # number of samples from Class 1\n",
        "num_x2_samples = 500 # number of samples from Class 2\n",
        "num_x3_samples = 500 # number of samples from Class 2\n",
        "\n",
        "theta_rot1 = (np.pi)/4\n",
        "theta_rot2 = (np.pi)/4\n",
        "theta_rot3 = (np.pi)/4\n",
        "\n",
        "sigma_11d = 1 #standard deviation in first dimension\n",
        "sigma_12d = 1 #standard deviation in second dimension\n",
        "\n",
        "sigma_21d = 1 #standard deviation in first dimension\n",
        "sigma_22d = 1 #standard deviation in second dimension\n",
        "\n",
        "sigma_31d = 1 #standard deviation in first dimension\n",
        "sigma_32d = 1 #standard deviation in second dimension\n",
        "\n",
        "rot_mat1 = np.array([[np.cos(theta_rot1), -np.sin(theta_rot1)],[np.sin(theta_rot1), np.cos(theta_rot1)]])\n",
        "rot_mat2 = np.array([[np.cos(theta_rot2), -np.sin(theta_rot2)],[np.sin(theta_rot2), np.cos(theta_rot2)]])\n",
        "rot_mat3 = np.array([[np.cos(theta_rot3), -np.sin(theta_rot3)],[np.sin(theta_rot3), np.cos(theta_rot3)]])\n",
        "\n",
        "cov_sqrt_1 = np.array([[sigma_11d,0],[0,sigma_12d]])\n",
        "cov_sqrt_2 = np.array([[sigma_21d,0],[0,sigma_22d]])\n",
        "cov_sqrt_3 = np.array([[sigma_31d,0],[0,sigma_32d]])\n",
        "\n",
        "\n",
        "comb_mat1 = np.matmul(rot_mat1,cov_sqrt_1)\n",
        "comb_mat2 = np.matmul(rot_mat2,cov_sqrt_2)\n",
        "comb_mat3 = np.matmul(rot_mat3,cov_sqrt_3)\n",
        "\n",
        "\n",
        "print(\"comb_mat1 = \",np.matmul(comb_mat1,comb_mat1.T))\n",
        "print(\"comb_mat2 = \",np.matmul(comb_mat2,comb_mat2.T))\n",
        "print(\"comb_mat2 = \",np.matmul(comb_mat3,comb_mat3.T))\n",
        "\n",
        "mu_1 = np.array([[0,20]]).T # Mean of the points in Class 1\n",
        "mu_2 = np.array([[0,0]]).T # Mean of the points in Class 2\n",
        "mu_3 = np.array([[0,-20]]).T # Mean of the points in Class 3\n",
        "\n",
        "\n",
        "x1 = np.random.randn(num_x1_samples,2)  # Generate num_x1_samples points for Class 1, with mean of mu_1\n",
        "y1 = np.ones((num_x1_samples,1)) # Assign a label of +1 to the samples from Class 1\n",
        "x1=np.matmul(x1,comb_mat1.T)+ mu_1.T\n",
        "\n",
        "x2 = np.random.randn(num_x2_samples,2) # Generate num_x2_samples points for Class 2, with mean of mu_2\n",
        "y2 = 2*np.ones((num_x2_samples,1)) # Assign a label of -1 to the samples from Class 2\n",
        "x2=np.matmul(x2,comb_mat2.T)+ mu_2.T \n",
        "\n",
        "x3 = np.random.randn(num_x3_samples,2) # Generate num_x2_samples points for Class 2, with mean of mu_2\n",
        "y3 = 3*np.ones((num_x3_samples,1)) # Assign a label of -1 to the samples from Class 2\n",
        "x3=np.matmul(x3,comb_mat3.T)+ mu_3.T \n",
        "\n",
        "x_train = np.concatenate((x1,x2,x3),axis=0) # The training data will be a mix of the samples from Class 1 and Class 2. Here we are stacking the rows on top of each other\n",
        "y_train = np.concatenate((y1,y2,y3),axis=0) # Just as the sample points were concatenated, we need to concatenate the labels\n",
        "\n",
        "#Shuffle training samples. The samples we obtain in practise might be in random order.\n",
        "perm = np.random.permutation(y_train.size)\n",
        "\n",
        "x_train = x_train[perm,:]\n",
        "y_train = y_train[perm,:]\n",
        "\n",
        "\n",
        "\n",
        "plt.plot(x1[:,0],x1[:,1],'.')\n",
        "plt.plot(x2[:,0],x2[:,1],'.')\n",
        "plt.plot(x3[:,0],x3[:,1],'.')\n",
        "plt.grid()\n",
        "plt.title(\"Training samples.\")\n",
        "plt.xlabel(\"x[0]\")\n",
        "plt.ylabel(\"x[1]\")\n",
        "axis_max = (max(np.absolute(plt.xlim()+plt.ylim())))\n",
        "plt.xlim((-axis_max,axis_max))\n",
        "plt.ylim((-axis_max,axis_max))\n",
        "plt.show()\n"
      ],
      "execution_count": 2,
      "outputs": [
        {
          "output_type": "stream",
          "text": [
            "comb_mat1 =  [[1.00000000e+00 1.01465364e-17]\n",
            " [1.01465364e-17 1.00000000e+00]]\n",
            "comb_mat2 =  [[1.00000000e+00 1.01465364e-17]\n",
            " [1.01465364e-17 1.00000000e+00]]\n",
            "comb_mat2 =  [[1.00000000e+00 1.01465364e-17]\n",
            " [1.01465364e-17 1.00000000e+00]]\n"
          ],
          "name": "stdout"
        },
        {
          "output_type": "display_data",
          "data": {
            "image/png": "[encoded data removed]",
            "text/plain": [
              "<Figure size 432x288 with 1 Axes>"
            ]
          },
          "metadata": {
            "tags": []
          }
        }
      ]
    },
    {
      "cell_type": "markdown",
      "metadata": {
        "id": "iMr6GpFXKGZt",
        "colab_type": "text"
      },
      "source": [
        "### Define required functions"
      ]
    },
    {
      "cell_type": "code",
      "metadata": {
        "id": "QuLiHq4tAA7k",
        "colab_type": "code",
        "colab": {}
      },
      "source": [
        "def initialize_centroids(input_samples,num_clusters):\n",
        " random_indices = np.random.randint(0,input_samples.shape[0],num_clusters)\n",
        " centroids = input_samples[random_indices,:]\n",
        " return centroids\n",
        "\n",
        "def assign_new_labels(input_samples,centroids):\n",
        "  distance_centroids=np.zeros((input_samples.shape[0],centroids.shape[0])) #initialize all distances to zeros\n",
        "  count = 0\n",
        "  for centroid in centroids:\n",
        "    diff = input_samples - centroid\n",
        "    distance = np.linalg.norm(diff,axis=1)\n",
        "    distance_centroids[:,count] = distance\n",
        "    count+=1\n",
        "  labels = np.argmin(distance_centroids,axis=1)\n",
        "  return labels\n",
        "\n",
        "def inertia(input_samples,centroids,labels):\n",
        "  inertia=0\n",
        "  centroid_count = 0\n",
        "  for centroid in centroids:\n",
        "    diff = input_samples[labels==centroid_count] - centroid\n",
        "    #inertia+=np.sum(np.linalg.norm(diff,axis=1)**2)\n",
        "    inertia+=np.linalg.norm(diff)**2\n",
        "    centroid_count+=1\n",
        "  return inertia/labels.size #average inertia\n",
        "\n",
        "def compute_new_centroids(input_samples,labels,num_clusters):\n",
        "  centroids=np.zeros((num_clusters,input_samples.shape[1]))  \n",
        "  for count in np.arange(num_clusters):\n",
        "    new_centroid = np.mean(input_samples[labels==count],axis=0)\n",
        "    centroids[count,:]= new_centroid\n",
        "    #print(\"count_compute_new_centroids = \",count, \".centroids = \", centroids)\n",
        "  return centroids\n",
        "  \n",
        "\n",
        "def K_means_algo(input_samples,num_clusters,convergence_criteria=0.001):\n",
        "  #print(\"input_samples = \",input_samples.shape, \". num_clusters = \",num_clusters)\n",
        "  centroids_evol=np.zeros((num_clusters,input_samples.shape[1],1)) #variable to track evolution of centroids\n",
        "  temp = np.zeros((num_clusters,input_samples.shape[1],1)) # temporary variable to enable appending of centroids_evol\n",
        "  centroids=initialize_centroids(input_samples,num_clusters) #initialize the centroids\n",
        "  centroids_evol[:,:,0] = centroids\n",
        "  #print(\"initial centroids =\",centroids)\n",
        "  labels=assign_new_labels(input_samples,centroids) # assign cluster label for each input sample\n",
        "  inertia_current = inertia(input_samples,centroids,labels) # compute total inertia for the current centroids\n",
        "  inertia_prev = inertia_current+convergence_criteria+1 # +1 is added so that we enter the while loop for the first time\n",
        "  count = 0\n",
        "  #print(\"initial labels = \", labels[:5])\n",
        "  while(abs(inertia_prev-inertia_current) > convergence_criteria and (count < 10000)):\n",
        "    count+=1\n",
        "    centroids = compute_new_centroids(input_samples, labels,num_clusters)\n",
        "    temp[:,:,0] = centroids\n",
        "    centroids_evol=np.append(centroids_evol,temp,axis=2) #add the current centroids to centroids_evol\n",
        "    #print(\"count = \",count,\"centroids = \", centroids)\n",
        "    labels = assign_new_labels(input_samples,centroids)\n",
        "    inertia_prev = inertia_current\n",
        "    inertia_current = inertia(input_samples,centroids,labels)\n",
        "    #print(inertia_prev - inertia_current)\n",
        "  return centroids,labels,centroids_evol"
      ],
      "execution_count": 0,
      "outputs": []
    },
    {
      "cell_type": "markdown",
      "metadata": {
        "id": "Al1iEoBXKKM8",
        "colab_type": "text"
      },
      "source": [
        "### Call main function"
      ]
    },
    {
      "cell_type": "code",
      "metadata": {
        "id": "s__W6A63KODS",
        "colab_type": "code",
        "outputId": "0f4be5f8-6b89-4860-e5ad-a447f2890b76",
        "colab": {
          "base_uri": "https://localhost:8080/",
          "height": 67
        }
      },
      "source": [
        "num_clusters = 3\n",
        "centroids,labels,centroids_evol=K_means_algo(input_samples=x_train,num_clusters=num_clusters)\n",
        "print(\"Centroids = \", centroids)"
      ],
      "execution_count": 4,
      "outputs": [
        {
          "output_type": "stream",
          "text": [
            "Centroids =  [[-1.48437454e-02 -2.00065211e+01]\n",
            " [ 1.08391258e-02  1.99885778e+01]\n",
            " [ 3.66108850e-02 -1.67197708e-02]]\n"
          ],
          "name": "stdout"
        }
      ]
    },
    {
      "cell_type": "markdown",
      "metadata": {
        "id": "MMO8scnTdsZ_",
        "colab_type": "text"
      },
      "source": [
        "### Plot results"
      ]
    },
    {
      "cell_type": "code",
      "metadata": {
        "id": "ustEwDAqdoCo",
        "colab_type": "code",
        "outputId": "88dc6e78-4003-4b7c-bd7b-092de3c1486a",
        "colab": {
          "base_uri": "https://localhost:8080/",
          "height": 370
        }
      },
      "source": [
        "fig, (axis1,axis2,axis3) = plt.subplots(1,3,figsize=(17,5))\n",
        "\n",
        "for count in range(num_classes):\n",
        "  axis1.plot(x_train[y_train[:,0] == count+1][:,0],x_train[y_train[:,0] == count+1][:,1],'.')\n",
        "\n",
        "axis1.grid()\n",
        "axis1.set_title(\"Training samples.\")\n",
        "axis1.set_xlabel(\"x[0]\")\n",
        "axis1.set_ylabel(\"x[1]\")\n",
        "axis1.set_xlim((-axis_max,axis_max))\n",
        "axis1.set_ylim((-axis_max,axis_max))\n",
        "\n",
        "for count in np.arange(num_clusters):\n",
        "  axis2.plot(x_train[labels==count][:,0],x_train[labels==count][:,1],'.')\n",
        "\n",
        "axis2.plot(centroids[:,0],centroids[:,1],'k*')\n",
        "axis2.grid()\n",
        "axis2.set_title(\"Clustered samples.\")\n",
        "axis2.set_xlabel(\"x[0]\")\n",
        "axis2.set_ylabel(\"x[1]\")\n",
        "axis2.set_xlim((-axis_max,axis_max))\n",
        "axis2.set_ylim((-axis_max,axis_max))\n",
        "\n",
        "for evol_count in np.arange(centroids_evol.shape[2]):\n",
        "  for count in np.arange(num_clusters):\n",
        "    axis3.plot(centroids_evol[count,0,evol_count],centroids_evol[count,1,evol_count],'.')\n",
        "axis3.plot(centroids_evol[:,0,0],centroids_evol[:,1,0],'r*')\n",
        "axis3.plot(centroids_evol[:,0,-1],centroids_evol[:,1,-1],'k*')\n",
        "axis3.grid()\n",
        "axis3.set_title(\"Evolution of centroids\")\n",
        "axis3.set_xlabel(\"x[0]\")\n",
        "axis3.set_ylabel(\"x[1]\")\n",
        "axis3.set_xlim((-axis_max,axis_max))\n",
        "axis3.set_ylim((-axis_max,axis_max))\n",
        "\n",
        "plt.show()\n",
        "\n"
      ],
      "execution_count": 5,
      "outputs": [
        {
          "output_type": "display_data",
          "data": {
            "image/png": "[encoded data removed]",
            "text/plain": [
              "<Figure size 1224x360 with 3 Axes>"
            ]
          },
          "metadata": {
            "tags": []
          }
        }
      ]
    },
    {
      "cell_type": "code",
      "metadata": {
        "id": "2kZ81hvP8AdM",
        "colab_type": "code",
        "outputId": "44491c3d-fa47-482b-d3da-372eac0ac064",
        "colab": {
          "base_uri": "https://localhost:8080/",
          "height": 296
        }
      },
      "source": [
        "K = 10\n",
        "inertia_array = np.zeros((K,1))\n",
        "for k in range(K):\n",
        "  centroids,labels,centroids_evol=K_means_algo(input_samples=x_train,num_clusters= k+1)\n",
        "  inertia_array[k] = inertia(x_train,centroids,labels)\n",
        "plt.plot(inertia_array)\n",
        "plt.xlabel(\"number of clusters (K)\")\n",
        "plt.ylabel(\"Sum of intra cluster variances (inertia)\")"
      ],
      "execution_count": 6,
      "outputs": [
        {
          "output_type": "execute_result",
          "data": {
            "text/plain": [
              "Text(0, 0.5, 'Sum of intra cluster variances (inertia)')"
            ]
          },
          "metadata": {
            "tags": []
          },
          "execution_count": 6
        },
        {
          "output_type": "display_data",
          "data": {
            "image/png": "[encoded data removed]",
            "text/plain": [
              "<Figure size 432x288 with 1 Axes>"
            ]
          },
          "metadata": {
            "tags": []
          }
        }
      ]
    },
    {
      "cell_type": "markdown",
      "metadata": {
        "id": "L5sJ2t-aWRlH",
        "colab_type": "text"
      },
      "source": [
        "### Exercises\n",
        "* Try the k-means algorithm on  non-isotropic clusters\n",
        "* Try varying the number of clusters in data and the num_clusters argument passed to the K-means function"
      ]
    },
    {
      "cell_type": "markdown",
      "metadata": {
        "id": "IW8QD88lXd_G",
        "colab_type": "text"
      },
      "source": [
        "## Clustering Using EM (Gaussian Mixture Models)\n",
        "\n",
        " Expectation maximization is an algorithm to find the maximum likelihood estimates of parameters of a probability distribution, that would have generated the given ]set of datapoints. EM algorithm is particularly useful to find the maximum likelihood estimates in the presence of unobserved latent variables that influence the generation of the datapoints. \n",
        "\n",
        "For clustering, the latent variable is assumed to be the class/cluster to which the datapoint belongs.\n",
        "\n",
        "\n",
        "     EM(input_samples,num_clusters)\n",
        "       centroids = initialize_centroids(num_clusters)\n",
        "       while(centriods not converged)\n",
        "        E-Step : Update probability of class membership for each datapoint.\n",
        "        M-Step : Find maximum likelihood class parameters assuming above computed class probabilities.\n",
        "       end while\n",
        "       labels = for each datapoint, class with highest class probability.\n",
        "\n",
        "In the example below, we are looking only at Gaussian mixtures. However, EM can be used for any family of probability distributions. Depending on the family of distributions, the computation steps in the E-Step and M-Step would vary.\n",
        "\n",
        " A tutorial on EM algorithm can be found [here](http://cs229.stanford.edu/notes/cs229-notes8.pdf).\n",
        "\n",
        " Jupyter notebook on EM can be found [here](https://github.com/nidhin-koshy/TRISCON_TPML/blob/master/02_Expectation_Maximization.ipynb).\n"
      ]
    },
    {
      "cell_type": "code",
      "metadata": {
        "id": "trKPgdQaXnLg",
        "colab_type": "code",
        "colab": {}
      },
      "source": [
        "def EM_Clustering(input_samples,num_clusters,convergence_criteria=0.001):\n",
        "  bern_p = np.ones((num_clusters,))/num_clusters # pmf on latent variable\n",
        "  centroids_evol=np.zeros((num_clusters,input_samples.shape[1],1)) #variable to track evolution of centroids\n",
        "  temp = np.zeros((num_clusters,input_samples.shape[1],1)) # temporary variable to enable appending of centroids_evol\n",
        "  centroids=initialize_centroids(input_samples,num_clusters) #initialize the centroids\n",
        "  centroids_evol[:,:,0] = centroids\n",
        "  variances = np.matlib.repmat(np.eye(input_samples.shape[1]),num_clusters,1)\n",
        "  count = 0\n",
        "  #print(\"initial labels = \", labels[:5])\n",
        "  converged = False\n",
        "  alpha = 0.1 # learning coeff.\n",
        "  while(not converged):\n",
        "    count+=1\n",
        "    #print(variances)\n",
        "    w = E_step(input_samples,centroids,variances,bern_p,num_clusters)\n",
        "    centroids,bern_p, variances_new = M_step(input_samples,centroids,variances,num_clusters,bern_p,w)\n",
        "    variances = (1-alpha)*variances + alpha*variances_new\n",
        "\n",
        "\n",
        "    temp[:,:,0] = centroids\n",
        "    centroids_evol=np.append(centroids_evol,temp,axis=2) #add the current centroids to centroids_evol\n",
        "    centroid_diff = np.linalg.norm(centroids_evol[:,:,-1]-centroids_evol[:,:,-2])\n",
        "    #print(w[:10])\n",
        "    #print(bern_p)\n",
        "    #print(centroid_diff)\n",
        "    \n",
        "    if( centroid_diff < 0.01): # arbitrary stopping criterion. One could come up with better stopping criteria.\n",
        "      converged = True\n",
        "  labels = np.argmax(w,axis=1)\n",
        "\n",
        "  return centroids,labels,centroids_evol, variances,bern_p\n",
        "\n",
        "def E_step(input_samples,centroids,variances,bern_p,num_clusters):\n",
        "  centroid_count=0\n",
        "  num_datapoints = input_samples.shape[0]\n",
        "  w_new = np.zeros((num_datapoints,num_clusters))\n",
        "  for centroid in centroids:\n",
        "    diff = input_samples - centroid\n",
        "    temp = np.matmul(diff,np.linalg.inv(variances[centroid_count*input_samples.shape[1]:(centroid_count+1)*input_samples.shape[1],:]))\n",
        "    temp1 = np.sum(temp*diff,axis=1)/2\n",
        "    #for count in  range(input_samples.shape[0]):\n",
        "      #temp1[count,0] = np.matmul(temp[count:count+1,:],diff[count:count+1,:].T)\n",
        "    #print(temp1.shape, bern_p[centroid_count].shape)\n",
        "    temp1 = np.exp(-temp1)*bern_p[centroid_count]\n",
        "    w_new[:,centroid_count] = temp1\n",
        "    centroid_count+=1\n",
        "  w_new = normalize(w_new, axis=1, norm='l1')\n",
        "  #print(w_new)\n",
        "  return w_new\n",
        "\n",
        "def M_step(input_samples,centroids,variances,num_clusters,bern_p,w):\n",
        "  num_datapoints = input_samples.shape[0]\n",
        "  centroids_new = np.matmul(w.T,input_samples)\n",
        "  normalisation = np.matmul(w.T,np.ones(input_samples.shape))\n",
        "  centroids_new = np.divide(centroids_new,normalisation)\n",
        "  \n",
        "  bern_p_new = np.mean(w,axis=0)\n",
        "\n",
        "  variance_new = np.matlib.repmat(np.eye(input_samples.shape[1]),num_clusters,1)\n",
        "  centroid_count = 0\n",
        "  for centroid in centroids:\n",
        "    temp = input_samples - centroid\n",
        "    temp1 = temp*w[:,centroid_count:centroid_count+1] #equivalently we can use np.multiply\n",
        "    temp2 = np.matmul(temp.T,temp1)\n",
        "    temp2 = temp2/sum(w[:,centroid_count:centroid_count+1])\n",
        "    variance_new[centroid_count*input_samples.shape[1]:(centroid_count+1)*input_samples.shape[1],:] = temp2\n",
        "    centroid_count+=1\n",
        "  \n",
        "  return centroids_new, bern_p_new, variance_new\n",
        "\n",
        "\n"
      ],
      "execution_count": 0,
      "outputs": []
    },
    {
      "cell_type": "code",
      "metadata": {
        "id": "AEqpWnK6rZWH",
        "colab_type": "code",
        "outputId": "334c0f40-6829-49c7-85a7-5fc3e55f9a9e",
        "colab": {
          "base_uri": "https://localhost:8080/",
          "height": 185
        }
      },
      "source": [
        "num_clusters = 3\n",
        "centroids,labels,centroids_evol,variance,bern_p=EM_Clustering(input_samples=x_train,num_clusters=num_clusters)\n",
        "print(\"Centroids = \", centroids)\n",
        "print(\"variance = \", variance)\n",
        "print(\"bern_p=\", bern_p)"
      ],
      "execution_count": 8,
      "outputs": [
        {
          "output_type": "stream",
          "text": [
            "Centroids =  [[ 3.66951658e-02 -1.73399000e-02]\n",
            " [ 1.06651615e-02  1.99817563e+01]\n",
            " [-1.47549634e-02 -2.00066441e+01]]\n",
            "variance =  [[ 0.97902252  0.86040496]\n",
            " [ 0.86040496 19.11097181]\n",
            " [ 1.00539845  0.27159686]\n",
            " [ 0.27159686 21.91355983]\n",
            " [ 0.94706051  0.10497941]\n",
            " [ 0.10497941  2.22631192]]\n",
            "bern_p= [0.33329972 0.33341319 0.33328709]\n"
          ],
          "name": "stdout"
        }
      ]
    },
    {
      "cell_type": "code",
      "metadata": {
        "id": "wAXAMRFw4RWM",
        "colab_type": "code",
        "outputId": "e77db16e-8a09-4962-ed3f-a2e4696c52da",
        "colab": {
          "base_uri": "https://localhost:8080/",
          "height": 370
        }
      },
      "source": [
        "fig, (axis1,axis2,axis3) = plt.subplots(1,3,figsize=(17,5))\n",
        "for count in range(num_classes):\n",
        "  axis1.plot(x_train[y_train[:,0] == count+1][:,0],x_train[y_train[:,0] == count+1][:,1],'.')\n",
        "axis1.grid()\n",
        "axis1.set_title(\"Training samples.\")\n",
        "axis1.set_xlabel(\"x[0]\")\n",
        "axis1.set_ylabel(\"x[1]\")\n",
        "axis1.set_xlim((-axis_max,axis_max))\n",
        "axis1.set_ylim((-axis_max,axis_max))\n",
        "\n",
        "for count in np.arange(num_clusters):\n",
        "  axis2.plot(x_train[labels==count][:,0],x_train[labels==count][:,1],'.')\n",
        "\n",
        "axis2.plot(centroids[:,0],centroids[:,1],'k*')\n",
        "axis2.grid()\n",
        "axis2.set_title(\"Clustered samples.\")\n",
        "axis2.set_xlabel(\"x[0]\")\n",
        "axis2.set_ylabel(\"x[1]\")\n",
        "axis2.set_xlim((-axis_max,axis_max))\n",
        "axis2.set_ylim((-axis_max,axis_max))\n",
        "\n",
        "for evol_count in np.arange(centroids_evol.shape[2]):\n",
        "  for count in np.arange(num_clusters):\n",
        "    axis3.plot(centroids_evol[count,0,evol_count],centroids_evol[count,1,evol_count],'.')\n",
        "axis3.plot(centroids_evol[:,0,0],centroids_evol[:,1,0],'r*')\n",
        "axis3.plot(centroids_evol[:,0,-1],centroids_evol[:,1,-1],'k*')\n",
        "axis3.grid()\n",
        "axis3.set_title(\"Evolution of centroids\")\n",
        "axis3.set_xlabel(\"x[0]\")\n",
        "axis3.set_ylabel(\"x[1]\")\n",
        "axis3.set_xlim((-axis_max,axis_max))\n",
        "axis3.set_ylim((-axis_max,axis_max))\n",
        "\n",
        "plt.show()"
      ],
      "execution_count": 9,
      "outputs": [
        {
          "output_type": "display_data",
          "data": {
            "image/png": "[encoded data removed]",
            "text/plain": [
              "<Figure size 1224x360 with 3 Axes>"
            ]
          },
          "metadata": {
            "tags": []
          }
        }
      ]
    },
    {
      "cell_type": "markdown",
      "metadata": {
        "id": "7yvlbJULhmuu",
        "colab_type": "text"
      },
      "source": [
        "## Spectral Clustering\n",
        "\n",
        "Spectral clustering is a clustering technique that maps the input data points to a different space and does the clustering in that space. Spectral techniques are robust to non-isotropic data clusters. We will now describe the algorithm.\n",
        "\n",
        "Let $x_1,x_2, \\ldots, x_n$ be the $n$ data points that need to be clustered. Let $K$ denote the number of clusters to be computed. Let $S \\in \\mathcal{R}^{n\\times n}$ be the similarity matrix with $S_{ij} = S_{ji} \\ge 0$.\n",
        "\n",
        "\n",
        "\n",
        "Let $d_{i} = \\sum_{j=1}^n S_{ij}$ be the degree of node $i$. Let $D = diag(d_i, d_2,\\dots,d_n)$ be the degree matrix.\n",
        "\n",
        "Let $L = D-S$ denote the Laplacian matrix associated with $S$. This is also called the un-normalized Laplacian.\n",
        "\n",
        "### Properties of the Laplacian matrix $L$\n",
        "* For every $f \\in \\mathcal{R}^n$ we have\n",
        "$$f^TLf = \\frac{1}{2} \\sum_{i,j}S_{ij}(f_i - f_j)^2 \\ge 0.$$\n",
        "* $L$ is symmetric and positive semi-definite\n",
        "* The smallest eignvalue of $L$ is zero, and the corresponding eigenvector is the all one vector $\\mathbf{1}.$\n",
        "* $L$ has $n$ non-negative, real-valued eigenvalues = $0\\le \\lambda_1\\le\\lambda_2\\ldots \\le \\lambda_n.$"
      ]
    },
    {
      "cell_type": "markdown",
      "metadata": {
        "id": "wFPi6KxH9sH7",
        "colab_type": "text"
      },
      "source": [
        "  ### Spectral Clustering Algorithm with non-normalized Laplacian:\n",
        "  * Input: Similarity matrix $S \\in \\mathcal{R}^{n\\times n}$, number $k$ of clusters to construct\n",
        "    * Compute the Laplacian $L$\n",
        "    * Compute the first $k$ eigenvectors $u_i, u_2, \\ldots, u_k$ of $L$\n",
        "    * Let $U  = [u_1, u_2, \\ldots, u_k] \\in \\mathcal{R}^{n \\times k}.$\n",
        "    * Let the rows of $U$ be the new data points, i.e., let $y_i$ denote the $i$th row of $U$.\n",
        "    * Find k clusters $C_i, C_2, \\ldots, C_k$ of the new data points $y_1, y_2, \\dots, y_n$ using clustering methods like K-means.\n",
        "  *Output: Clusters $A_1,A_2,\\ldots,A_k$ with $A_i = \\{j | y_j \\in C_i\\}$"
      ]
    },
    {
      "cell_type": "markdown",
      "metadata": {
        "id": "Lq_ZTzNwxQ-O",
        "colab_type": "text"
      },
      "source": [
        "### Implement Spectral Clustering\n",
        "\n",
        "Let $S_{ij} = e^{-\\frac{\\Vert x_i -x_j\\Vert^2}{2\\sigma^2}}$. This is the popular euclidean distance based similarity matrix. Any symmetric matrix with non-negative entries can be used as a similarity matrix."
      ]
    },
    {
      "cell_type": "code",
      "metadata": {
        "id": "3PBZz-hDy0vE",
        "colab_type": "code",
        "colab": {}
      },
      "source": [
        "\n",
        "#Spectral Clustering\n",
        "from scipy.spatial.distance import cdist\n",
        "S_sigma_square = .6\n",
        "dist = cdist(x_train,x_train,metric='euclidean')/(2*S_sigma_square)\n",
        "S = np.exp(-dist)\n",
        "D = np.diag(np.sum(S,axis=1,keepdims=False))\n",
        "L = D-S\n",
        "#print(\"Sum of S = \",np.sum(S,axis=1,keepdims=False)[:5])\n",
        "#print(\"D =\", D[:5,:5])\n",
        "#print(\"S = \",S[:5,:5])\n",
        "#print(\"L = \",L[:5,:5])\n",
        "#print(\"sum L = \",np.sum(L,axis=1,keepdims=False)[:5] )\n",
        "eigenvalues,eigenvectors = np.linalg.eig(L)\n",
        "idx = np.argsort(eigenvalues)   #sort eigenvalues\n",
        "eigenvalues = eigenvalues[idx]\n",
        "#print(\"eigenvalues = \",eigenvalues[:10])\n",
        "eigenvectors = eigenvectors[:,idx] #arrange eigenvectors in sorted order\n",
        "U_k = eigenvectors[:,0:num_clusters]\n",
        "#print(\"U_k = \", U_k[:10,:])\n",
        "centroids_spectral,labels_spectral,centroids_evol_spectral=K_means_algo(input_samples=U_k,num_clusters=num_clusters)"
      ],
      "execution_count": 0,
      "outputs": []
    },
    {
      "cell_type": "code",
      "metadata": {
        "id": "EjX8xhHH2xsG",
        "colab_type": "code",
        "colab": {
          "base_uri": "https://localhost:8080/",
          "height": 350
        },
        "outputId": "9e394522-e6f1-46b3-b1e2-26190d2f6fba"
      },
      "source": [
        "#Plot Results\n",
        "fig, (axis1,axis2) = plt.subplots(1,2,figsize=(10,5))\n",
        "for count in range(num_classes):\n",
        "  axis1.plot(x_train[y_train[:,0] == count+1][:,0],x_train[y_train[:,0] == count+1][:,1],'.')\n",
        "axis1.grid()\n",
        "axis1.set_title(\"Training samples.\")\n",
        "axis1.set_xlabel(\"x[0]\")\n",
        "axis1.set_ylabel(\"x[1]\")\n",
        "axis1.set_xlim((-axis_max,axis_max))\n",
        "axis1.set_ylim((-axis_max,axis_max))\n",
        "\n",
        "for count in np.arange(num_clusters):\n",
        "  axis2.plot(x_train[labels_spectral==count][:,0],x_train[labels_spectral==count][:,1],'.')\n",
        "\n",
        "#axis2.plot(centroids_spectral[:,0],centroids_spectral[:,1],'k*')\n",
        "axis2.grid()\n",
        "axis2.set_title(\"Clustered samples.\")\n",
        "axis2.set_xlabel(\"x[0]\")\n",
        "axis2.set_ylabel(\"x[1]\")\n",
        "axis2.set_xlim((-axis_max,axis_max))\n",
        "axis2.set_ylim((-axis_max,axis_max))\n",
        "\n",
        "plt.show()"
      ],
      "execution_count": 11,
      "outputs": [
        {
          "output_type": "display_data",
          "data": {
            "image/png": "[encoded data removed]",
            "text/plain": [
              "<Figure size 720x360 with 2 Axes>"
            ]
          },
          "metadata": {
            "tags": []
          }
        }
      ]
    },
    {
      "cell_type": "markdown",
      "metadata": {
        "id": "5cN6clDFWuUX",
        "colab_type": "text"
      },
      "source": [
        "  ### Spectral Clustering Algorithm with normalized Laplacian:\n",
        "  * Input: Similarity matrix $S \\in \\mathcal{R}^{n\\times n}$, number $k$ of clusters to construct\n",
        "    * Compute the Laplacian $L_{norm} = I - D^{-1/2}S D^{-1/2}$\n",
        "    * Compute the first $k$ eigenvectors $u_i, u_2, \\ldots, u_k$ of $L_{norm}$\n",
        "    * Let $U  = [u_1, u_2, \\ldots, u_k] \\in \\mathcal{R}^{n \\times k}.$\n",
        "    * Let the rows of $U$ be the new data points, i.e., let $y_i$ denote the $i$th row of $U$\n",
        "    * Normalize the rows of $U$ to unit norm vectors..\n",
        "    * Find k clusters $C_i, C_2, \\ldots, C_k$ of the new data points $y_1, y_2, \\dots, y_n$ using clustering methods like K-means.\n",
        "  *Output: Clusters $A_1,A_2,\\ldots,A_k$ with $A_i = \\{j | y_j \\in C_i\\}$"
      ]
    },
    {
      "cell_type": "code",
      "metadata": {
        "id": "pA5oWZs6XUWy",
        "colab_type": "code",
        "colab": {}
      },
      "source": [
        "#Spectral Clustering with normlized Laplacian\n",
        "from scipy.spatial.distance import cdist\n",
        "S_sigma_square = 10\n",
        "dist = cdist(x_train,x_train,metric='minkowski',p=2)/(2*S_sigma_square)\n",
        "S = np.exp(-dist)\n",
        "diag_vector = np.sum(S,axis=1,keepdims=False)\n",
        "diag_vector_sqrt_inv = 1/np.sqrt(diag_vector)\n",
        "D = np.diag(np.sum(S,axis=1,keepdims=False))\n",
        "D_sqrt_inv = np.diag(diag_vector_sqrt_inv)\n",
        "L = D-S\n",
        "L_norm = np.matmul(D_sqrt_inv,L)\n",
        "L_norm = np.matmul(L_norm,D_sqrt_inv)\n",
        "#print(\"Sum of S = \",np.sum(S,axis=1,keepdims=False)[:5])\n",
        "#print(\"D =\", D[:5,:5])\n",
        "#print(\"S = \",S[:5,:5])\n",
        "#print(\"L_norm = \",L_norm[:5,:5])\n",
        "#print(\"sum L = \",np.sum(L,axis=1,keepdims=False)[:5] )\n",
        "eigenvalues_norm,eigenvectors_norm = np.linalg.eig(L_norm)\n",
        "idx = np.argsort(eigenvalues_norm)   #sort eigenvalues\n",
        "eigenvalues_norm = eigenvalues_norm[idx]\n",
        "#print(\"eigenvalues_norm = \",eigenvalues_norm[:10])\n",
        "eigenvectors_norm = eigenvectors_norm[:,idx] #arrange eigenvectors in sorted order\n",
        "U_k_norm = eigenvectors_norm[:,0:num_clusters]\n",
        "U_k_norm = U_k_norm/np.linalg.norm(U_k_norm,axis=1,keepdims=True)\n",
        "#print(\"U_k_norm = \", U_k_norm[:10,:])\n",
        "centroids_spectral_norm,labels_spectral_norm,centroids_evol_spectral_norm=K_means_algo(input_samples=U_k_norm,num_clusters=num_clusters)"
      ],
      "execution_count": 0,
      "outputs": []
    },
    {
      "cell_type": "code",
      "metadata": {
        "id": "PB_bD0XkZAM7",
        "colab_type": "code",
        "colab": {
          "base_uri": "https://localhost:8080/",
          "height": 350
        },
        "outputId": "25e769ff-d13d-48ce-d73d-45cf193f5872"
      },
      "source": [
        "#Plot Results\n",
        "fig, (axis1,axis2) = plt.subplots(1,2,figsize=(10,5))\n",
        "for count in range(num_classes):\n",
        "  axis1.plot(x_train[y_train[:,0] == count+1][:,0],x_train[y_train[:,0] == count+1][:,1],'.')\n",
        "axis1.grid()\n",
        "axis1.set_title(\"Training samples.\")\n",
        "axis1.set_xlabel(\"x[0]\")\n",
        "axis1.set_ylabel(\"x[1]\")\n",
        "axis1.set_xlim((-axis_max,axis_max))\n",
        "axis1.set_ylim((-axis_max,axis_max))\n",
        "\n",
        "for count in np.arange(num_clusters):\n",
        "  axis2.plot(x_train[labels_spectral_norm==count][:,0],x_train[labels_spectral_norm==count][:,1],'.')\n",
        "\n",
        "#axis2.plot(centroids_spectral[:,0],centroids_spectral[:,1],'k*')\n",
        "axis2.grid()\n",
        "axis2.set_title(\"Clustered samples.\")\n",
        "axis2.set_xlabel(\"x[0]\")\n",
        "axis2.set_ylabel(\"x[1]\")\n",
        "axis2.set_xlim((-axis_max,axis_max))\n",
        "axis2.set_ylim((-axis_max,axis_max))\n",
        "\n",
        "plt.show()"
      ],
      "execution_count": 13,
      "outputs": [
        {
          "output_type": "display_data",
          "data": {
            "image/png": "[encoded data removed]",
            "text/plain": [
              "<Figure size 720x360 with 2 Axes>"
            ]
          },
          "metadata": {
            "tags": []
          }
        }
      ]
    },
    {
      "cell_type": "markdown",
      "metadata": {
        "id": "Xm9NOKTy5uSr",
        "colab_type": "text"
      },
      "source": [
        "## Exercises\n",
        "* Try to implement K-means and Spectral Clustering using the in-built functions available with Scikit-Learn. The link to the scikit-learn documentation on clustering is given below. "
      ]
    },
    {
      "cell_type": "markdown",
      "metadata": {
        "id": "ylnbymy4V99m",
        "colab_type": "text"
      },
      "source": [
        "## Resources\n",
        "* Scikit Learn documentation for clustering - https://scikit-learn.org/stable/modules/clustering.html\n",
        "* Tutorial on spectral clustering - [here](http://citeseerx.ist.psu.edu/viewdoc/download;jsessionid=E23FB97AFEFB3E59F906B4CED88A98B2?doi=10.1.1.165.9323&rep=rep1&type=pdf)\n"
      ]
    }
  ]
}