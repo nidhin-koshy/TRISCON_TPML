{
  "nbformat": 4,
  "nbformat_minor": 0,
  "metadata": {
    "colab": {
      "name": "Expectation Maximization.ipynb",
      "provenance": [],
      "collapsed_sections": [],
      "include_colab_link": true
    },
    "kernelspec": {
      "name": "python3",
      "display_name": "Python 3"
    }
  },
  "cells": [
    {
      "cell_type": "markdown",
      "metadata": {
        "id": "view-in-github",
        "colab_type": "text"
      },
      "source": [
        "<a href=\"https://colab.research.google.com/github/nidhin-koshy/TRISCON_TPML/blob/master/02_Expectation_Maximization.ipynb\" target=\"_parent\"><img src=\"https://colab.research.google.com/assets/colab-badge.svg\" alt=\"Open In Colab\"/></a>"
      ]
    },
    {
      "cell_type": "markdown",
      "metadata": {
        "id": "QWKDSnxMB28d",
        "colab_type": "text"
      },
      "source": [
        "# Expectation Maximization (EM) algorithm for maximum likelihood estimation\n",
        "\n",
        "Problem motivation: Consider bids for a share. You are aware that there are two groups bidding for the share and that their evaluations are different, but you can observe only the noisy bid values, not knowing from which group a bid orginated. Your objective is to estimate the two different evaluations (knowing the larger evaluation might fetch a seller better rates for his shares). If we ignore the fact that there are two different evaluations that are driving the bids, then a naive estimate of the evaluation would be the empirical mean of all the bids. Such an estimate would be lower than the higher evaluation. \n",
        "\n",
        "\n",
        "In the above example, when we observe a bid, we are not sure from which group the bid originated. The group identity of the bid is hidden. It is in this context that expectation maximization algorithm (EM) helps to estimate the maximum likelihood estimates of the underlying parameters in the presence of hidden or latent variables."
      ]
    },
    {
      "cell_type": "markdown",
      "metadata": {
        "id": "VYPQL1ttKXq3",
        "colab_type": "text"
      },
      "source": [
        "Expectation Maximization (EM) is an iterative algorithm to obtain the maximum likelihood estimate given a set of observations. Let us have quick overview of the EM algorithm.\n",
        "\n",
        "Let $Y^n = (Y_1, Y_2, ..., Y_n )$ be a set of observations. Let $\\theta$ denote the parameter we want to optimize to maximize the likelihood. The maximum likelihood estimate $\\theta^*$ is defind as: \n",
        "\n",
        "$\\theta^* = \\arg \\max_\\theta p(Y^n| \\theta) = \\arg \\max _\\theta \\log(P(Y^n | \\theta)) =: \\arg \\max _\\theta L(\\theta) .$\n",
        "\n",
        "\n",
        "\n",
        "In many cases it might not be easy to find $\\theta^*$ directly from the above expression. This is particularly the case when there are unobservable random variables that influence the sample generation. In the above share bidding example, the group identity of the bid is a hidden random variable and knowledge of that random variable simplifies likelihood computation.  EM algorithm proposes an iterative procedure,  that at each instance updates its estimates of the hidden random variables and that of the parameters of interest, and provides better estimates after each iteration and hence guarantees at least a locally optimum solution. \n",
        "\n",
        "Let us try to derive the EM algorithm.\n",
        "\n",
        "\\begin{align}\n",
        " L(\\theta) &:= \\log (P(Y^n | \\theta))\\\\\n",
        " & = \\log \\left(\\sum_{z \\in \\mathcal{Z}} P(Y^n, Z | \\theta)\\right)\\\\\n",
        " &=\\log \\left(\\sum_{z \\in \\mathcal{Z}} Q(Z,Y^n,\\theta) \\frac{P(Y^n, Z | \\theta)}{Q(Z,Y^n,\\theta)} \\right) \\\\\n",
        " &\\ge \\sum_{z \\in \\mathcal{Z}} Q(Z,Y^n,\\theta) \\log \\left(\\frac{P(Y^n, Z | \\theta)}{Q(Z,Y^n,\\theta)} \\right), \n",
        "\\end{align} \n",
        "\n",
        "where $Z$ is the latent variable or the hidden variable. $Q(Z,Y^n,\\theta)$ is a pmf on $\\mathcal{Z}.$ In particular let us set $Q(Z,Y^n,\\theta) = P(Z | Y^n, \\theta)$.\n",
        "\n",
        "Let us define $$l(\\theta, \\theta') := \\sum_{z \\in \\mathcal{Z}} P(Z | Y^n, \\theta') \\log \\left(\\frac{P(Y^n, Z | \\theta)}{P(Z | Y^n, \\theta')} \\right).$$ Note that $l(\\theta,\\theta) = L(\\theta).$\n",
        "\n",
        "EM -Algorithm:\n",
        "\n",
        "Initialize $\\theta_0$ to a random value. For $n \\ge 1$ repeat till convergence of $l(\\theta_n, \\theta_{n-1})$\n",
        "*   E-Step : compute $P(Z | Y^n, \\theta_{n-1})$ \n",
        "*   M-Step : $\\theta_n := \\arg \\max_\\theta l(\\theta, \\theta_{n-1})$\n",
        "*   $n=n+1$\n",
        "\n",
        "Properties: \n",
        "\n",
        " $ L(\\theta_n) = l(\\theta_n, \\theta_n)$ is a monotonically increasing sequence and hence convereges. This is true because the following chain of inequalities hold:\n",
        " \n",
        " $L(\\theta_n) = l(\\theta_n, \\theta_n) \\ge l(\\theta_n, \\theta_{n-1}) \\ge l(\\theta_{n-1}, \\theta_{n-1}) = L(\\theta_{n-1}).$"
      ]
    },
    {
      "cell_type": "markdown",
      "metadata": {
        "id": "SIYml4qCCOat",
        "colab_type": "text"
      },
      "source": [
        "##Case 1.1 - Mixture of univariate Gaussian random variables\n",
        "\n",
        "To begin, let us consider a simple case of samples being generated from two uni-variate gaussian distributions with same variance, but different means. \n",
        "\n",
        "Let\n",
        "$$ Y = 1_{\\{C = 0\\}} X_1 + 1_{\\{C = 1\\}} X_2, $$\n",
        "where $C \\sim Ber(p),$ $X_1$, $X_2$  are univariate Gaussian random variables with unknown means $\\mu_1$ and $\\mu_2$  and common variance $\\sigma^2$. To begin, let us assume that the variance is known.\n",
        "\n",
        "Given samples from $Y$, the aim is to find the maximum likelihood estimates of $\\mu_1$ and $\\mu_2$. Here $C$ is the latent variable or the hidden variable."
      ]
    },
    {
      "cell_type": "markdown",
      "metadata": {
        "id": "k-Bp9NXc8l_e",
        "colab_type": "text"
      },
      "source": [
        "Let us derive the required expressions for EM algorithm for this particular problem. The likelihhod function is defined as\n",
        "\n",
        "\\begin{align}\n",
        " L(\\mu_1, \\mu_2) &= \\log (P(Y^n | \\mu_1, \\mu_2))\\\\\n",
        " & = \\sum_{i = 1}^{n}  \\log (P(Y_i | \\mu_1, \\mu_2)) \\\\\n",
        " & = \\sum_{i = 1}^{n}  \\log \\left( \\sum_{c = 0,1}P(Y_i, C_i = c | \\mu_1, \\mu_2)\\right) \\\\\n",
        " & \\ge \\sum_{i = 1}^{n} \\sum_{c = 0,1} P( C_i = c | Y_i, \\mu_1, \\mu_2) \\log \\left( \\frac{P(Y_i, C_i = c | \\mu_1, \\mu_2)}{P( C_i = c | Y_i, \\mu_1, \\mu_2)}\\right).\n",
        "\\end{align}\n",
        "\n",
        "The lower bound for the likelihood function is defined as\n",
        "\n",
        "\\begin{align}\n",
        "l(\\mu_1,\\mu_2, \\mu_1',\\mu_2') & = \\sum_{i = 1}^{n} \\sum_{c = 0,1} P( C_i = c | Y_i, \\mu_1', \\mu_2') \\log \\left( \\frac{P(Y_i, C_i = c | \\mu_1, \\mu_2)}{P( C_i = c | Y_i, \\mu_1', \\mu_2')}\\right).\n",
        "\\end{align}\n",
        "\n",
        "Let us now obtain the update rules for the E-Step and the M-Step.\n",
        "\n",
        "E-Step: \n",
        "\\begin{align}\n",
        "P( C_i = c | Y_i, \\mu_1', \\mu_2') &= \\frac{P(Y_i | C_i = c, \\mu_1', \\mu_2')  P(C_i = c | \\mu_1' \\mu_2')}{P(Y_i | \\mu_1', \\mu_2')}\\\\\n",
        "&= \\frac{P(Y_i | C_i = c, \\mu_1', \\mu_2')  P(C_i = c )}{\\sum_{c' = 0,1}P(Y_i | C_i = c', \\mu_1', \\mu_2')  P(C_i = c' )},\n",
        "\\end{align}\n",
        "\n",
        "where in the second equality, we have used the assumption that $C_i$ is independent of $\\mu_1'$, $\\mu_2'$.\n",
        "\n",
        "From the Gaussian assumption on the sample distribution, we have \n",
        "\\begin{align}\n",
        "P(Y_i | C_i = 0, \\mu_1', \\mu_2') &= \\frac{1}{\\sqrt{2\\pi} \\sigma} e^{ \\frac{-(Y_i - \\mu_1)^2}{2 \\sigma^2}}\n",
        "\\end{align}\n",
        "\n",
        "\\begin{align}\n",
        "P( C_i = 0 | Y_i, \\mu_1', \\mu_2') &= \\frac{P(Y_i | C_i = 0, \\mu_1', \\mu_2')  P(C_i = 0 )}{\\sum_{c' = 0,1}P(Y_i | C_i = c', \\mu_1', \\mu_2')  P(C_i = c' )}\\\\\n",
        "&=\\frac{e^{ \\frac{-(Y_i - \\mu_1')^2}{2 \\sigma^2}} (1-p)}{e^{ \\frac{-(Y_i - \\mu_1')^2}{2 \\sigma^2}} (1-p) + e^{ \\frac{-(Y_i - \\mu_2')^2}{2 \\sigma^2}} (p)}\n",
        "\\end{align}\n",
        "\n",
        "Let us define\n",
        "\\begin{align}\n",
        "w_i^0&:=\\frac{e^{ \\frac{-(Y_i - \\mu_1')^2}{2 \\sigma^2}} (1-p)}{e^{ \\frac{-(Y_i - \\mu_1')^2}{2 \\sigma^2}} (1-p) + e^{ \\frac{-(Y_i - \\mu_2')^2}{2 \\sigma^2}} (p)}\\\\\n",
        "w_i^1&:=\\frac{e^{ \\frac{-(Y_i - \\mu_2')^2}{2 \\sigma^2}} (p)}{e^{ \\frac{-(Y_i - \\mu_1')^2}{2 \\sigma^2}} (1-p) + e^{ \\frac{-(Y_i - \\mu_2')^2}{2 \\sigma^2}} (p)}\\\\\n",
        "\\end{align}\n",
        "\n",
        "Thus computing $w_i^c$ for $c = 0,1$ and $i = 0...n$ for the E-Step.\n",
        "\n",
        "M-Step:\n",
        "\n",
        "For the M-Step, we need to determine the parameters $\\mu_1$ and $\\mu_2$ that maximises the lowerbound function $l(\\mu_1,\\mu_2, \\mu_1',\\mu_2').$\n",
        "\n",
        "Using the definitions of $w_i^c$ developed above,, we can re-write the  lowerbound function $l(\\mu_1,\\mu_2, \\mu_1',\\mu_2')$ as\n",
        "\\begin{align}\n",
        "l(\\mu_1,\\mu_2, \\mu_1',\\mu_2') & = \\sum_{i = 1}^{n} \\sum_{c = 0,1} w_i^c \\log \\left( \\frac{P(Y_i, C_i = c | \\mu_1, \\mu_2)}{w_i^c}\\right).\n",
        "\\end{align}\n",
        "\n",
        "The objective of the M-Step is to compute\n",
        "\\begin{align}\n",
        "(\\mu_1, \\mu_2) &= \\arg \\max_{\\mu_1, \\mu_2} l(\\mu_1,\\mu_2, \\mu_1',\\mu_2')\\\\\n",
        " &= \\arg \\max_{\\mu_1, \\mu_2}  \\sum_{i = 1}^{n} \\sum_{c = 0,1} w_i^c \\log \\left( \\frac{P(Y_i, C_i = c | \\mu_1, \\mu_2)}{w_i^c}\\right)\\\\\n",
        "  &= \\arg \\max_{\\mu_1, \\mu_2}  \\sum_{i = 1}^{n} \\sum_{c = 0,1} w_i^c \\left(\\log \\left( {P(Y_i | C_i = c, \\mu_1, \\mu_2)} + \\log (P(C_i=c | \\mu_1, \\mu_2))-\\log (w_i^c)\\right)\\right)\\\\\n",
        "  &= \\arg \\max_{\\mu_1, \\mu_2}  \\sum_{i = 1}^{n} \\sum_{c = 0,1} w_i^c \\log \\left( {P(Y_i | C_i = c, \\mu_1, \\mu_2)} \\right)\\\\\n",
        "  & = \\arg \\max_{\\mu_1, \\mu_2}  \\sum_{i = 1}^{n} - w_i^0 (Y_i - \\mu_1)^2 - w_i^1 (Y_i - \\mu_2)^2\n",
        "\\end{align}\n",
        "\n",
        "where the second last equality holds as the second and third terms are not dependent on $\\mu_1$ and $\\mu_2$ (we have used the fact that $C_i$ is generated independently of $\\mu_1$ and $\\mu_2$) and do not contribute to the optimization problem. The last equality is obtained by substituting the expressions for $P(Y_i | C_i = c, \\mu_1, \\mu_2)$ in the previous equation, and then removing terms that do not contribute to the optimization problem. \n",
        "\n",
        "To obtain the optimal $\\mu_1$ and $\\mu_2$, we can differentiate the above equation with respect to $\\mu_1$ and $\\mu_2$ and equate to zero.\n",
        "\n",
        "The solution we thus obtain is\n",
        "\\begin{align}\n",
        "\\mu_1 &= \\frac{\\sum_{i = 1}^{n}  w_i^0 Y_i}{\\sum_{i = 1}^{n}  w_i^0}, \\text{ and}\\\\\n",
        "\\mu_2 &= \\frac{\\sum_{i = 1}^{n}  w_i^1 Y_i}{\\sum_{i = 1}^{n}  w_i^1}\n",
        "\\end{align}\n",
        "\n",
        "We now have all the ingredients to compute the E-Step and the M-Step. In summary, the EM algorithm would be:\n",
        "\n",
        "\n",
        "Initialize $\\mu_1 = 0$, $\\mu_2 = 20$ (random values). Repeat till convergence of $L(\\mu_1,\\mu_2)$\n",
        "*   E-Step : Compute \n",
        "\\begin{align}\n",
        "w_i^0&:=\\frac{e^{ \\frac{-(Y_i - \\mu_1)^2}{2 \\sigma^2}} (1-p)}{e^{ \\frac{-(Y_i - \\mu_1)^2}{2 \\sigma^2}} (1-p) + e^{ \\frac{-(Y_i - \\mu_2)^2}{2 \\sigma^2}} (p)}\\\\\n",
        "w_i^1&:=\\frac{e^{ \\frac{-(Y_i - \\mu_2)^2}{2 \\sigma^2}} (p)}{e^{ \\frac{-(Y_i - \\mu_1)^2}{2 \\sigma^2}} (1-p) + e^{ \\frac{-(Y_i - \\mu_2)^2}{2 \\sigma^2}} (p)}\\\\\n",
        "\\end{align}\n",
        "*   M-Step : Update $\\mu_1$ and $\\mu_2$ as\n",
        "\n",
        "\\begin{align}\n",
        "\\mu_1 &= \\frac{\\sum_{i = 1}^{n}  w_i^0 Y_i}{\\sum_{i = 1}^{n}  w_i^0}, \\text{ and}\\\\\n",
        "\\mu_2 &= \\frac{\\sum_{i = 1}^{n}  w_i^1 Y_i}{\\sum_{i = 1}^{n}  w_i^1}\n",
        "\\end{align}\n",
        "\n",
        "Let us now apply the above derived algorithm to the problem under consideration."
      ]
    },
    {
      "cell_type": "code",
      "metadata": {
        "id": "IJfYmfDGJ-5v",
        "colab_type": "code",
        "outputId": "f0dee17a-0101-4d71-944a-655f947ad979",
        "colab": {
          "base_uri": "https://localhost:8080/",
          "height": 672
        }
      },
      "source": [
        "import numpy as np\n",
        "import math\n",
        "import matplotlib.pyplot as plt\n",
        "\n",
        "num_samples = 5000\n",
        "mu_1 = 15\n",
        "mu_2 = 20\n",
        "var = 2\n",
        "p = 0.3\n",
        "\n",
        "# Generation of samples\n",
        "\n",
        "C = np.random.rand(num_samples,1)\n",
        "C[C>p]  = 0\n",
        "C[C!=0] = 1\n",
        "X_1 = math.sqrt(var)* (np.random.randn(num_samples,1))+mu_1\n",
        "X_2 = math.sqrt(var)* (np.random.randn(num_samples,1))+mu_2\n",
        "Y = (C==0)*X_1 + (C==1)*X_2\n",
        "\n",
        "Y_1 = X_1[C==0]\n",
        "Y_2 = X_2[C==1]\n",
        "\n",
        "print(\"Number of Y_1 samples = %d. Number of Y_2 samples = %d\"  %(Y_1.size, Y_2.size))\n",
        "\n",
        "plt.figure(1)\n",
        "plt.subplot(211)\n",
        "plt.plot(Y,np.zeros((Y.size,1)),'ro')\n",
        "plt.subplot(212)\n",
        "plt.plot(Y_1,np.zeros((Y_1.size,1)),'bo')\n",
        "plt.plot(Y_2,np.zeros((Y_2.size,1)),'yo')\n",
        "plt.show()\n",
        "hist_bins = np.arange(0,30,.25)\n",
        "#plt.figure()\n",
        "fig, axis = plt.subplots(2,1,figsize=(8,6))\n",
        "plt.subplot(2,1,1)\n",
        "plt.hist(Y,bins=hist_bins,color='b')\n",
        "plt.title(\"Observed Mixture Data\")\n",
        "plt.subplot(2,1,2)\n",
        "plt.hist(Y_1,bins=hist_bins,color='r')\n",
        "plt.hist(Y_2,bins=hist_bins,color='g')\n",
        "plt.title(\"Actual Generation clusters\")"
      ],
      "execution_count": 7,
      "outputs": [
        {
          "output_type": "stream",
          "text": [
            "Number of Y_1 samples = 3511. Number of Y_2 samples = 1489\n"
          ],
          "name": "stdout"
        },
        {
          "output_type": "display_data",
          "data": {
            "image/png": "[encoded data removed]",
            "text/plain": [
              "<Figure size 432x288 with 2 Axes>"
            ]
          },
          "metadata": {
            "tags": []
          }
        },
        {
          "output_type": "execute_result",
          "data": {
            "text/plain": [
              "Text(0.5, 1.0, 'Actual Generation clusters')"
            ]
          },
          "metadata": {
            "tags": []
          },
          "execution_count": 7
        },
        {
          "output_type": "display_data",
          "data": {
            "image/png": "[encoded data removed]",
            "text/plain": [
              "<Figure size 576x432 with 2 Axes>"
            ]
          },
          "metadata": {
            "tags": []
          }
        }
      ]
    },
    {
      "cell_type": "code",
      "metadata": {
        "id": "uCp2VmVr5mvn",
        "colab_type": "code",
        "outputId": "247776a6-1993-41d2-906b-8c7435898fba",
        "colab": {
          "base_uri": "https://localhost:8080/",
          "height": 317
        }
      },
      "source": [
        "num_iterations = 50\n",
        "mu_1_est = 5\n",
        "mu_2_est = 5.5\n",
        "w_est = np.zeros((Y.size,2))\n",
        "print(w_est[:][0].size)\n",
        "for iter_count in range(num_iterations):\n",
        "  #E-Step\n",
        "  \n",
        "    w_est[:,[0]] = Y-mu_1_est \n",
        "    w_est[:,[1]] = Y-mu_2_est \n",
        "    w_est[:,[0]] = np.exp(-np.divide(np.square(w_est[:,[0]]),2*var))*(1-p)\n",
        "    w_est[:,[1]] = np.exp(-np.divide(np.square(w_est[:,[1]]),2*var))*(p)\n",
        "    w_est[:,[0]] = np.divide(w_est[:,[0]], w_est[:,[0]]+w_est[:,[1]])\n",
        "    w_est[:,[1]] = 1- w_est[:,[0]]\n",
        "  # M-Step\n",
        "    mu_1_est = np.divide(np.sum(w_est[:,[0]]*Y),np.sum(w_est[:,[0]]))\n",
        "    mu_2_est = np.divide(np.sum(w_est[:,[1]]*Y),np.sum(w_est[:,[1]]))\n",
        "    plt.figure(2)\n",
        "    plt.plot(iter_count,mu_1_est,'bo')\n",
        "    plt.plot(iter_count,mu_2_est,'yo')\n",
        "    \n",
        "print(\"mu_1_est = %f, mu_2_est = %f\" %(mu_1_est,mu_2_est))\n",
        "plt.xlabel('iterations')\n",
        "plt.grid(True)\n",
        "plt.show()\n",
        "\n",
        "\n",
        "\n",
        "  "
      ],
      "execution_count": 0,
      "outputs": [
        {
          "output_type": "stream",
          "text": [
            "2\n",
            "mu_1_est = 15.067941, mu_2_est = 19.988426\n"
          ],
          "name": "stdout"
        },
        {
          "output_type": "display_data",
          "data": {
            "image/png": "[encoded data removed]",
            "text/plain": [
              "<Figure size 432x288 with 1 Axes>"
            ]
          },
          "metadata": {
            "tags": []
          }
        }
      ]
    },
    {
      "cell_type": "markdown",
      "metadata": {
        "id": "4FawalcHOqpx",
        "colab_type": "text"
      },
      "source": [
        "##Case -1.2 Mixture of Univariate Gaussians with unknown variance\n",
        "\n",
        "Recollect that in the earlier exercise, we had assumed knowledge of the variance. Let us now consider the case when $X_1$ and $X_2$ have same but unknown variance. We will now derive the update rules for the new setting. We will observe that the update rules are same as before, with an additional update rule for the estimate of variance. Let us now look a closer look at the derivation.\n",
        "\n",
        "The lowerbound function on the likelihood can be defined as\n",
        "\n",
        "\\begin{align}\n",
        "l(\\mu_1,\\mu_2, \\sigma^2, \\mu_1',\\mu_2', \\sigma'^2) & = \\sum_{i = 1}^{n} \\sum_{c = 0,1} P( C_i = c | Y_i, \\mu_1', \\mu_2',\\sigma'^2) \\log \\left( \\frac{P(Y_i, C_i = c | \\mu_1, \\mu_2,\\sigma^2)}{P( C_i = c | Y_i, \\mu_1', \\mu_2',\\sigma'^2)}\\right).\n",
        "\\end{align}\n",
        "\n",
        "Let us now obtain the update rules for the E-Step and the M-Step.\n",
        "\n",
        "E-Step: \n",
        "\\begin{align}\n",
        "P( C_i = c | Y_i, \\mu_1', \\mu_2',\\sigma'^2) &= \\frac{P(Y_i | C_i = c, \\mu_1', \\mu_2',\\sigma'^2)  P(C_i = c | \\mu_1' \\mu_2',\\sigma'^2)}{P(Y_i | \\mu_1', \\mu_2',\\sigma'^2)}\\\\\n",
        "&= \\frac{P(Y_i | C_i = c, \\mu_1', \\mu_2',\\sigma'^2)  P(C_i = c )}{\\sum_{c' = 0,1}P(Y_i | C_i = c', \\mu_1', \\mu_2',\\sigma'^2)  P(C_i = c' )},\n",
        "\\end{align}\n",
        "\n",
        "where in the second equality, we have used the assumption that $C_i$ is independent of $\\mu_1'$, $\\mu_2',\\sigma'^2$.\n",
        "\n",
        "From the Gaussian assumption on the sample distribution, we have \n",
        "\\begin{align}\n",
        "P(Y_i | C_i = 0, \\mu_1', \\mu_2',\\sigma'^2) &= \\frac{1}{\\sqrt{2\\pi} \\sigma} e^{ \\frac{-(Y_i - \\mu_1')^2}{2 \\sigma'^2}}.\n",
        "\\end{align}\n",
        "\n",
        "\\begin{align}\n",
        "P( C_i = 0 | Y_i, \\mu_1', \\mu_2',\\sigma'^2) &= \\frac{P(Y_i | C_i = 0, \\mu_1', \\mu_2',\\sigma'^2)  P(C_i = 0 )}{\\sum_{c' = 0,1}P(Y_i | C_i = c', \\mu_1', \\mu_2',\\sigma'^2)  P(C_i = c' )}\\\\\n",
        "&=\\frac{e^{ \\frac{-(Y_i - \\mu_1')^2}{2 \\sigma'^2}} (1-p)}{e^{ \\frac{-(Y_i - \\mu_1')^2}{2 \\sigma'^2}} (1-p) + e^{ \\frac{-(Y_i - \\mu_2')^2}{2 \\sigma'^2}} (p)}\n",
        "\\end{align}\n",
        "\n",
        "Let us define\n",
        "\\begin{align}\n",
        "w_i^0&:=\\frac{e^{ \\frac{-(Y_i - \\mu_1')^2}{2 \\sigma'^2}} (1-p)}{e^{ \\frac{-(Y_i - \\mu_1')^2}{2 \\sigma'^2}} (1-p) + e^{ \\frac{-(Y_i - \\mu_2')^2}{2 \\sigma'^2}} (p)}\\\\\n",
        "w_i^1&:=\\frac{e^{ \\frac{-(Y_i - \\mu_2')^2}{2 \\sigma'^2}} (p)}{e^{ \\frac{-(Y_i - \\mu_1')^2}{2 \\sigma'^2}} (1-p) + e^{ \\frac{-(Y_i - \\mu_2')^2}{2 \\sigma'^2}} (p)}\\\\\n",
        "\\end{align}\n",
        "\n",
        "Thus the computation for the E-Step remains similar with the variance term replaced by the current estimate of the variance.\n",
        "\n",
        "M-Step:\n",
        "\n",
        "For the M-Step, we need to determine the parameters $\\mu_1$, $\\mu_2$ and $\\sigma^2$ that maximises the lowerbound function $l(\\mu_1,\\mu_2, \\sigma^2, \\mu_1',\\mu_2',\\sigma'^2).$\n",
        "\n",
        "Using the definitions of $w_i^c$ developed above,, we can re-write the  lowerbound function $l(\\mu_1,\\mu_2, \\sigma^2, \\mu_1',\\mu_2',\\sigma'^2)$ as\n",
        "\\begin{align}\n",
        "l(\\mu_1,\\mu_2, \\sigma^2, \\mu_1',\\mu_2',\\sigma'^2) & = \\sum_{i = 1}^{n} \\sum_{c = 0,1} w_i^c \\log \\left( \\frac{P(Y_i, C_i = c | \\mu_1, \\mu_2,\\sigma^2)}{w_i^c}\\right).\n",
        "\\end{align}\n",
        "\n",
        "The objective of the M-Step is to compute\n",
        "\\begin{align}\n",
        "(\\mu_1, \\mu_2,\\sigma^2) &= \\arg \\max_{\\mu_1, \\mu_2,\\sigma^2} l(\\mu_1,\\mu_2, \\sigma^2, \\mu_1',\\mu_2',\\sigma'^2)\\\\\n",
        " &= \\arg \\max_{\\mu_1, \\mu_2,\\sigma^2} \\sum_{i = 1}^{n} \\sum_{c = 0,1} w_i^c \\log \\left( \\frac{P(Y_i, C_i = c | \\mu_1, \\mu_2,\\sigma^2)}{w_i^c}\\right)\\\\\n",
        "  &=\\arg \\max_{\\mu_1, \\mu_2,\\sigma^2}  \\sum_{i = 1}^{n} \\sum_{c = 0,1} w_i^c \\left(\\log \\left( {P(Y_i | C_i = c, \\mu_1, \\mu_2,\\sigma^2)} + \\log (P(C_i=c | \\mu_1, \\mu_2,\\sigma^2))-\\log (w_i^c)\\right)\\right)\\\\\n",
        "  &= \\arg \\max_{\\mu_1, \\mu_2,\\sigma^2}  \\sum_{i = 1}^{n} \\sum_{c = 0,1} w_i^c \\log \\left( {P(Y_i | C_i = c, \\mu_1, \\mu_2,\\sigma^2)} \\right)\\\\\n",
        "  & = \\arg \\max_{\\mu_1, \\mu_2,\\sigma^2}  \\sum_{i = 1}^{n} w_i^0 \\left( \\frac{-(Y_i - \\mu_1)^2}{2 \\sigma^2} - \\frac{1}{2} \\log(2 \\pi \\sigma^2)\\right) + w_i^1 \\left( \\frac{-(Y_i - \\mu_2)^2}{2 \\sigma^2} - \\frac{1}{2} \\log(2 \\pi \\sigma^2)\\right)\n",
        "\\end{align}\n",
        "\n",
        "where the second last equality holds as the second and third terms are not dependent on $\\mu_1$, $\\mu_2$ and $\\sigma^2$ (we have used the fact that $C_i$ is generated independently of $\\mu_1$, $\\mu_2$, $\\sigma^2$) and do not contribute to the optimization problem. The last equality is obtained by substituting the expressions for $P(Y_i | C_i = c, \\mu_1, \\mu_2, \\sigma^2)$ in the previous equation, and then removing terms that do not contribute to the optimization problem. \n",
        "\n",
        "To obtain the optimal $\\mu_1$ and $\\mu_2$, we can differentiate the above equation with respect to $\\mu_1$ and $\\mu_2$ and equate to zero.\n",
        "\n",
        "The solution we thus obtain is\n",
        "\\begin{align}\n",
        "\\mu_1 &= \\frac{\\sum_{i = 1}^{n}  w_i^0 Y_i}{\\sum_{i = 1}^{n}  w_i^0}, \\text{ and}\\\\\n",
        "\\mu_2 &= \\frac{\\sum_{i = 1}^{n}  w_i^1 Y_i}{\\sum_{i = 1}^{n}  w_i^1}\n",
        "\\end{align}\n",
        "\n",
        "To obtain the optimum $\\sigma^2$ we need to differentiate with respect to $\\sigma^2$ and set it to zero.\n",
        "\n",
        "\\begin{align}\n",
        "\\frac{\\partial l(\\mu_1,\\mu_2, \\sigma^2, \\mu_1',\\mu_2',\\sigma'^2)}{\\partial \\sigma^2} &= \\sum_{i = 1}^{n} w_i^0 \\left( \\frac{(Y_i - \\mu_1)^2}{2 \\sigma^4} - \\frac{1}{2\\sigma^2} \\right) + w_i^1 \\left( \\frac{(Y_i - \\mu_2)^2}{2 \\sigma^4} - \\frac{1}{2\\sigma^2} \\right).\n",
        "\\end{align}\n",
        "\n",
        "Equating the partial derivative to zero and solving for $\\sigma^2$, we obtain\n",
        "\\begin{align}\n",
        "\\sigma^2 = \\frac{1}{n} \\sum_{i = 1}^{n} w_i^0 {(Y_i - \\mu_1)^2} + w_i^1 {(Y_i - \\mu_2)^2}\n",
        "\\end{align}\n",
        "\n",
        "We now have all the ingredients to compute the E-Step and the M-Step. In summary, the EM algorithm would be:\n",
        "\n",
        "\n",
        "Initialize $\\mu_1 = 0$, $\\mu_2 = 20$ (random values). Repeat till convergence of $L(\\mu_1,\\mu_2)$\n",
        "*   E-Step : Compute \n",
        "\\begin{align}\n",
        "w_i^0&:=\\frac{e^{ \\frac{-(Y_i - \\mu_1)^2}{2 \\sigma^2}} (1-p)}{e^{ \\frac{-(Y_i - \\mu_1)^2}{2 \\sigma^2}} (1-p) + e^{ \\frac{-(Y_i - \\mu_2)^2}{2 \\sigma^2}} (p)}\\\\\n",
        "w_i^1&:=\\frac{e^{ \\frac{-(Y_i - \\mu_2)^2}{2 \\sigma^2}} (p)}{e^{ \\frac{-(Y_i - \\mu_1)^2}{2 \\sigma^2}} (1-p) + e^{ \\frac{-(Y_i - \\mu_2)^2}{2 \\sigma^2}} (p)}\\\\\n",
        "\\end{align}\n",
        "*   M-Step : Update $\\mu_1$ and $\\mu_2$ as\n",
        "\n",
        "\\begin{align}\n",
        "\\mu_1 &= \\frac{\\sum_{i = 1}^{n}  w_i^0 Y_i}{\\sum_{i = 1}^{n}  w_i^0}, \\text{ and}\\\\\n",
        "\\mu_2 &= \\frac{\\sum_{i = 1}^{n}  w_i^1 Y_i}{\\sum_{i = 1}^{n}  w_i^1}\\\\\n",
        "\\sigma^2 &= \\frac{1}{n} \\sum_{i = 1}^{n} w_i^0 {(Y_i - \\mu_1)^2} + w_i^1 {(Y_i - \\mu_2)^2}\n",
        "\\end{align}"
      ]
    },
    {
      "cell_type": "code",
      "metadata": {
        "id": "v92vhGSFkBHW",
        "colab_type": "code",
        "outputId": "1ba8b997-3b9a-4a06-e524-1fe89d1fb7ef",
        "colab": {
          "base_uri": "https://localhost:8080/",
          "height": 374
        }
      },
      "source": [
        "num_iterations = 100\n",
        "mu_1_est = 5.0\n",
        "mu_2_est = 5.5\n",
        "var_est = 1\n",
        "w_est = np.zeros((Y.size,2))\n",
        "print(w_est[:][0].size)\n",
        "for iter_count in range(num_iterations):\n",
        "  #E-Step\n",
        "  \n",
        "    w_est[:,[0]] = Y-mu_1_est \n",
        "    w_est[:,[1]] = Y-mu_2_est \n",
        "    w_est[:,[0]] = np.exp(-np.divide(np.square(w_est[:,[0]]),2*var_est))*(1-p)\n",
        "    w_est[:,[1]] = np.exp(-np.divide(np.square(w_est[:,[1]]),2*var_est))*(p)\n",
        "    w_est[:,[0]] = np.divide(w_est[:,[0]], w_est[:,[0]]+w_est[:,[1]])\n",
        "    w_est[:,[1]] = 1- w_est[:,[0]]\n",
        "  # M-Step\n",
        "    mu_1_est = np.divide(np.sum(w_est[:,[0]]*Y),np.sum(w_est[:,[0]]))\n",
        "    mu_2_est = np.divide(np.sum(w_est[:,[1]]*Y),np.sum(w_est[:,[1]]))\n",
        "    var_est = np.sum(w_est[:,[0]]*np.square(Y-mu_1_est) + w_est[:,[1]] * np.square(Y-mu_2_est))/(Y.size)\n",
        "    plt.figure(2)\n",
        "    plt.subplot(211)\n",
        "    plt.plot(iter_count,mu_1_est,'bo')\n",
        "    plt.plot(iter_count,mu_2_est,'yo')\n",
        "    plt.subplot(212)\n",
        "    plt.plot(iter_count,var_est,'go')\n",
        "\n",
        "print(\"mu_1_est = %f, mu_2_est = %f, var_est = %f\" %(mu_1_est,mu_2_est,var_est))    \n",
        "\n",
        "plt.subplot(211)\n",
        "plt.xlabel('iterations')\n",
        "plt.grid(True)\n",
        "plt.subplot(212)\n",
        "#plt.xlabel('iterations')\n",
        "plt.grid(True)\n",
        "plt.show()\n"
      ],
      "execution_count": 0,
      "outputs": [
        {
          "output_type": "stream",
          "text": [
            "2\n"
          ],
          "name": "stdout"
        },
        {
          "output_type": "stream",
          "text": [
            "/usr/local/lib/python3.6/dist-packages/matplotlib/figure.py:98: MatplotlibDeprecationWarning: \n",
            "Adding an axes using the same arguments as a previous axes currently reuses the earlier instance.  In a future version, a new instance will always be created and returned.  Meanwhile, this warning can be suppressed, and the future behavior ensured, by passing a unique label to each axes instance.\n",
            "  \"Adding an axes using the same arguments as a previous axes \"\n"
          ],
          "name": "stderr"
        },
        {
          "output_type": "stream",
          "text": [
            "mu_1_est = 15.064357, mu_2_est = 19.989232, var_est = 1.949548\n"
          ],
          "name": "stdout"
        },
        {
          "output_type": "display_data",
          "data": {
            "image/png": "[encoded data removed]",
            "text/plain": [
              "<Figure size 432x288 with 2 Axes>"
            ]
          },
          "metadata": {
            "tags": []
          }
        }
      ]
    },
    {
      "cell_type": "markdown",
      "metadata": {
        "id": "_qD8fQl_lkKb",
        "colab_type": "text"
      },
      "source": [
        "##Case - 3 Mixture of univariate Gaussians with unknown $p$ for the Bernoulli random variable.\n",
        "\n",
        "Exercise: Show that the update rule for $p$ in the M-Step is\n",
        "$$p = \\frac{1}{m}\\sum_{i=1}^m w_i^1$$"
      ]
    },
    {
      "cell_type": "code",
      "metadata": {
        "id": "OJo020xDmN9l",
        "colab_type": "code",
        "outputId": "bd7a2481-3392-456a-c843-25f1d86fc1c3",
        "colab": {
          "base_uri": "https://localhost:8080/",
          "height": 374
        }
      },
      "source": [
        "num_iterations = 100\n",
        "mu_1_est = mu_1 #5.0\n",
        "mu_2_est = mu_2 #5.5\n",
        "var_est = var #2 \n",
        "p_est = 0.7 #0.1\n",
        "\n",
        "w_est = np.zeros((Y.size,2))\n",
        "print(w_est[:][0].size)\n",
        "for iter_count in range(num_iterations):\n",
        "  #E-Step\n",
        "  \n",
        "    w_est[:,[0]] = Y-mu_1_est \n",
        "    w_est[:,[1]] = Y-mu_2_est \n",
        "    w_est[:,[0]] = np.exp(-np.divide(np.square(w_est[:,[0]]),2*var_est))*(1-p_est)\n",
        "    w_est[:,[1]] = np.exp(-np.divide(np.square(w_est[:,[1]]),2*var_est))*(p_est)\n",
        "    w_est[:,[0]] = np.divide(w_est[:,[0]], w_est[:,[0]]+w_est[:,[1]])\n",
        "    w_est[:,[1]] = 1- w_est[:,[0]]\n",
        "  # M-Step\n",
        "    mu_1_est = np.divide(np.sum(w_est[:,[0]]*Y),np.sum(w_est[:,[0]]))\n",
        "    mu_2_est = np.divide(np.sum(w_est[:,[1]]*Y),np.sum(w_est[:,[1]]))\n",
        "    var_est = np.sum(w_est[:,[0]]*np.square(Y-mu_1_est) + w_est[:,[1]] * np.square(Y-mu_2_est))/(Y.size)\n",
        "    #p_est = np.sum(w_est[:,[1]])/(Y.size)\n",
        "    \n",
        "    plt.figure(2)\n",
        "    plt.subplot(311)\n",
        "    plt.plot(iter_count,mu_1_est,'bo')\n",
        "    plt.plot(iter_count,mu_2_est,'yo')\n",
        "    plt.subplot(312)\n",
        "    plt.plot(iter_count,var_est,'go')\n",
        "    plt.subplot(313)\n",
        "    plt.plot(iter_count,p_est,'go')\n",
        "\n",
        "print(\"mu_1_est = %f, mu_2_est = %f, var_est = %f, p_est = %f\" %(mu_1_est,mu_2_est,var_est,p_est))    \n",
        "\n",
        "plt.subplot(311)\n",
        "plt.xlabel('iterations')\n",
        "plt.grid(True)\n",
        "plt.subplot(312)\n",
        "#plt.xlabel('iterations')\n",
        "plt.grid(True)\n",
        "plt.show()"
      ],
      "execution_count": 0,
      "outputs": [
        {
          "output_type": "stream",
          "text": [
            "2\n"
          ],
          "name": "stdout"
        },
        {
          "output_type": "stream",
          "text": [
            "/usr/local/lib/python3.6/dist-packages/matplotlib/figure.py:98: MatplotlibDeprecationWarning: \n",
            "Adding an axes using the same arguments as a previous axes currently reuses the earlier instance.  In a future version, a new instance will always be created and returned.  Meanwhile, this warning can be suppressed, and the future behavior ensured, by passing a unique label to each axes instance.\n",
            "  \"Adding an axes using the same arguments as a previous axes \"\n"
          ],
          "name": "stderr"
        },
        {
          "output_type": "stream",
          "text": [
            "mu_1_est = 16.332138, mu_2_est = 16.567693, var_est = 6.941069, p_est = 0.700000\n"
          ],
          "name": "stdout"
        },
        {
          "output_type": "display_data",
          "data": {
            "image/png": "[encoded data removed]",
            "text/plain": [
              "<Figure size 432x288 with 3 Axes>"
            ]
          },
          "metadata": {
            "tags": []
          }
        }
      ]
    },
    {
      "cell_type": "markdown",
      "metadata": {
        "id": "s4dFt9i2-Fhg",
        "colab_type": "text"
      },
      "source": [
        "Observations:\n",
        "\n",
        "* When both variance $\\sigma^2$ and Bernoulli parameter $p$ are assumed unknown, then the EM algorithm converges to an incorrect solution, suggesting that the algorithm is getting stuck in a local maxima. \n",
        "* If we initialize the paramters in the EM algorithm with the true values, then the algorithm does not deviate from the true parameters, suggesting that the algorithm is converging to a local maxima in other cases."
      ]
    }
  ]
}